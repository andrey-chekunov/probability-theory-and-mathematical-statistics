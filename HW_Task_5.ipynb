{
 "cells": [
  {
   "cell_type": "markdown",
   "id": "299eaa41",
   "metadata": {},
   "source": [
    "Устройство состоит из трех деталей. Для первой детали вероятность выйти из строя в первый месяц равна 0.1, для второй - 0.2, для третьей - 0.25. Какова вероятность того, что в первый месяц выйдут из строя: \n",
    "\n",
    "а). все детали \n",
    "\n",
    "б). только две детали \n",
    "\n",
    "в). хотя бы одна деталь \n",
    "\n",
    "г). от одной до двух деталей?"
   ]
  },
  {
   "attachments": {},
   "cell_type": "markdown",
   "id": "c648a3de",
   "metadata": {},
   "source": [
    "$P(A_1)=0.1$ - вероятность выйти из строя первой детали\n",
    "\n",
    "$P(A_2)=0.2$ - вероятность выйти из строя второй детали\n",
    "\n",
    "$P(A_3)=0.25$ - -вероятность выйти из строя третьей детали"
   ]
  },
  {
   "attachments": {},
   "cell_type": "markdown",
   "id": "87c8506d",
   "metadata": {},
   "source": [
    "а) Какова вероятность того, что в первый месяц выйдут из строя все детали?\n",
    "\n",
    "В таком случае, вероятность $P(A)=P(A_1) \\cdot P(A_2) \\cdot P(A_3)=0.1\\cdot0.2\\cdot0.25$"
   ]
  },
  {
   "cell_type": "code",
   "execution_count": 3,
   "id": "54081c78",
   "metadata": {},
   "outputs": [
    {
     "name": "stdout",
     "output_type": "stream",
     "text": [
      "ОТВЕТ:\n",
      "Вероятность того, что в первый месяц выйдут из строя все детали P(A)= 0.005\n"
     ]
    }
   ],
   "source": [
    "PA=0.1*0.2*0.25\n",
    "print(f'ОТВЕТ:\\nВероятность того, что в первый месяц выйдут из строя все детали P(A)={PA: .3f}')"
   ]
  },
  {
   "attachments": {},
   "cell_type": "markdown",
   "id": "0fbc349b",
   "metadata": {},
   "source": [
    "а) Какова вероятность того, что в первый месяц выйдут из строя только две детали?\n",
    "\n",
    "В таком случае, есть вероятность того, что НЕ произойдет одно из событий:\n",
    "\n",
    "\\bar A_1 - НЕ выйдет из строя первая деталь. $P(\\bar A_1)=1-P(A_1)=1-0.1=0.9$\n",
    "\n",
    "\\bar A_2 - НЕ выйдет из строя вторая деталь. $P(\\bar A_2)=1-P(A_2)=1-0.2=0.8$\n",
    "\n",
    "\\bar A_3 - НЕ выйдет из строя третья деталь. $P(\\bar A_3)=1-P(A_3)=1-0.25=0.75$\n",
    "\n",
    "Вероятность $P(A)=P(A_1) \\cdot P(A_2) \\cdot P(\\bar A_3) + P(A_1) \\cdot P(\\bar A_2) \\cdot P(A_3) + P(\\bar A_1) \\cdot P(A_2) \\cdot P(A_3)= 0.1 \\cdot 0.2 \\cdot 0.75 + 0.1 \\cdot 0.8 \\cdot 0.25 + 0.9 \\cdot 0.2 \\cdot 0.25$"
   ]
  },
  {
   "cell_type": "code",
   "execution_count": 4,
   "id": "5132a1b8",
   "metadata": {},
   "outputs": [
    {
     "name": "stdout",
     "output_type": "stream",
     "text": [
      "ОТВЕТ:\n",
      "Вероятность того, что в первый месяц выйдут из строя все детали P(A)= 0.080\n"
     ]
    }
   ],
   "source": [
    "PA2=0.1*0.2*0.75+0.1*0.8*0.25+0.9*0.20*0.25\n",
    "print(f'ОТВЕТ:\\nВероятность того, что в первый месяц выйдут из строя все детали P(A)={PA2: .3f}')"
   ]
  }
 ],
 "metadata": {
  "kernelspec": {
   "display_name": "Python 3",
   "language": "python",
   "name": "python3"
  },
  "language_info": {
   "codemirror_mode": {
    "name": "ipython",
    "version": 3
   },
   "file_extension": ".py",
   "mimetype": "text/x-python",
   "name": "python",
   "nbconvert_exporter": "python",
   "pygments_lexer": "ipython3",
   "version": "3.10.7"
  },
  "vscode": {
   "interpreter": {
    "hash": "6847c98a8f86b01c6a19c518cd2f366693b80566b266804d5ca763cbb223f52b"
   }
  }
 },
 "nbformat": 4,
 "nbformat_minor": 5
}
