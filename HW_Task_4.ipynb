{
 "cells": [
  {
   "cell_type": "markdown",
   "id": "29d45662",
   "metadata": {},
   "source": [
    "В университет на факультеты A и B поступило равное количество студентов, а на факультет C студентов поступило столько же, сколько на A и B вместе. Вероятность того, что студент факультета A сдаст первую сессию, равна 0.8. Для студента факультета B эта вероятность равна 0.7, а для студента факультета C - 0.9. Студент сдал первую сессию. Какова вероятность, что он учится:\n",
    "\n",
    "a) на факультете A;\n",
    "\n",
    "б) на факультете B;\n",
    "\n",
    "в) на факультете C?"
   ]
  },
  {
   "cell_type": "markdown",
   "id": "debff682",
   "metadata": {},
   "source": [
    "Пусть $n$ - количество студентов на факультете $A$. По условиям задачи на факультете $B$ также учится $n$ студентов. На факультете $C$ - $2n$ студентов.\n",
    "Введем события $S_A, S_B, S_C$ - сессию сдают студенты факультетов $A, B, C$. Событие $D$ - сессия сдана.\n",
    "\n",
    "События $S_A, S_B, S_C$ образуют полную группу событий, $\\Rightarrow P(S_A)+P(S_B)+P(S_C)=1$.\n",
    "\n",
    "$\\frac{1}{n}+\\frac{1}{n}+\\frac{1}{2n}=1$\n",
    "\n",
    "$n=2.5$\n",
    "\n",
    "$\\Rightarrow P(S_A)=\\frac{1}{n}=0.25, \n",
    "    P(S_B)=\\frac{1}{n}=0.25, \n",
    "    P(S_C)=\\frac{1}{2n}=0.5$"
   ]
  },
  {
   "cell_type": "code",
   "execution_count": 6,
   "id": "11f0598e",
   "metadata": {},
   "outputs": [
    {
     "name": "stdout",
     "output_type": "stream",
     "text": [
      "Полная вероятность наступления события D = 0.825.\n"
     ]
    }
   ],
   "source": [
    "PD=0.25*0.8+0.25*0.7+0.5*0.9\n",
    "print(f'Полная вероятность наступления события D = {PD}.')"
   ]
  },
  {
   "cell_type": "markdown",
   "id": "69b55f4d",
   "metadata": {},
   "source": [
    "По формуле Байеса вычислим вероятность того, на каком факультете учится студент, успешно сдавший сессию:"
   ]
  },
  {
   "cell_type": "markdown",
   "id": "fae81d29",
   "metadata": {},
   "source": [
    "$P_D(S_A)=\\frac{P(S_A)\\cdot P_{S_A}(D)}{P(D)}$\n",
    "\n",
    "$P_D(S_B)=\\frac{P(S_B)\\cdot P_{S_B}(D)}{P(D)}$\n",
    "\n",
    "$P_D(S_C)=\\frac{P(S_C)\\cdot P_{S_C}(D)}{P(D)}$"
   ]
  },
  {
   "cell_type": "code",
   "execution_count": 8,
   "id": "7f1b2e6c",
   "metadata": {},
   "outputs": [
    {
     "name": "stdout",
     "output_type": "stream",
     "text": [
      " ОТВЕТ:\n",
      " Вероятность того, что студент учится на факультете A:  0.2424;\n",
      "Вероятность того, что студент учится на факультете B:  0.2121;\n",
      "Вероятность того, что студент учится на факультете C:  0.5455.\n"
     ]
    }
   ],
   "source": [
    "PDSA=0.25*0.8/PD\n",
    "PDSB=0.25*0.7/PD\n",
    "PDSC=0.5*0.9/PD\n",
    "print(f' ОТВЕТ:\\n Вероятность того, что студент учится на факультете A: {PDSA: .4f};\\n'\n",
    "      f'Вероятность того, что студент учится на факультете B: {PDSB: .4f};\\n'\n",
    "      f'Вероятность того, что студент учится на факультете C: {PDSC: .4f}.'\n",
    "      )"
   ]
  }
 ],
 "metadata": {
  "kernelspec": {
   "display_name": "Python 3",
   "language": "python",
   "name": "python3"
  },
  "language_info": {
   "codemirror_mode": {
    "name": "ipython",
    "version": 3
   },
   "file_extension": ".py",
   "mimetype": "text/x-python",
   "name": "python",
   "nbconvert_exporter": "python",
   "pygments_lexer": "ipython3",
   "version": "3.10.7"
  },
  "vscode": {
   "interpreter": {
    "hash": "6847c98a8f86b01c6a19c518cd2f366693b80566b266804d5ca763cbb223f52b"
   }
  }
 },
 "nbformat": 4,
 "nbformat_minor": 5
}
