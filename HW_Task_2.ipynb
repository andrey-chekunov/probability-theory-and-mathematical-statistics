{
 "cells": [
  {
   "cell_type": "code",
   "execution_count": 1,
   "id": "f399d949",
   "metadata": {},
   "outputs": [],
   "source": [
    "import numpy as np\n",
    "from math import factorial"
   ]
  },
  {
   "cell_type": "code",
   "execution_count": 2,
   "id": "06799dc6",
   "metadata": {},
   "outputs": [],
   "source": [
    "def combinations(n,k):\n",
    "    return factorial(n)/(factorial(k)*factorial(n-k))"
   ]
  },
  {
   "cell_type": "code",
   "execution_count": 3,
   "id": "f514933a",
   "metadata": {},
   "outputs": [
    {
     "name": "stdout",
     "output_type": "stream",
     "text": [
      "Вероятность события \"из первой корзины не вытащили ни одного белого мяча, из второй вытащили 3 белых мяча\"\n",
      "P(A1) =  0.015\n"
     ]
    }
   ],
   "source": [
    "P1=(combinations(3,2)/combinations(8,2))*(combinations(5,3)*combinations(7,1)/combinations(12,4))\n",
    "print(f'Вероятность события \"из первой корзины не вытащили ни одного белого мяча'\n",
    "      f', из второй вытащили 3 белых мяча\"\\nP(A1) = {P1: .3f}'\n",
    "     )"
   ]
  },
  {
   "cell_type": "code",
   "execution_count": 4,
   "id": "4a156cd7",
   "metadata": {},
   "outputs": [
    {
     "name": "stdout",
     "output_type": "stream",
     "text": [
      "Вероятность события \"из первой корзины вытащили 1 белый мяч, из второй вытащили 2 белых мяча\"\n",
      "P(A2) =  0.227\n"
     ]
    }
   ],
   "source": [
    "P2=(combinations(5,1)*combinations(3,1)*combinations(5,2)*combinations(7,2))/(combinations(8,2)*combinations(12,4))\n",
    "print(f'Вероятность события \"из первой корзины вытащили 1 белый мяч'\n",
    "      f', из второй вытащили 2 белых мяча\"\\nP(A2) = {P2: .3f}'\n",
    "     )"
   ]
  },
  {
   "cell_type": "code",
   "execution_count": 5,
   "id": "fba9cc51",
   "metadata": {},
   "outputs": [
    {
     "name": "stdout",
     "output_type": "stream",
     "text": [
      "Вероятность события \"из первой корзины вытащили 2 белых мяча, из второй вытащили 1 белый мяч\"\n",
      "P(A2) =  0.126\n"
     ]
    }
   ],
   "source": [
    "P3=(combinations(5,2)*combinations(5,1)*combinations(7,3))/(combinations(8,2)*combinations(12,4))\n",
    "print(f'Вероятность события \"из первой корзины вытащили 2 белых мяча'\n",
    "      f', из второй вытащили 1 белый мяч\"\\nP(A2) = {P3: .3f}'\n",
    "     )"
   ]
  },
  {
   "cell_type": "code",
   "execution_count": 6,
   "id": "e21147f4",
   "metadata": {},
   "outputs": [
    {
     "name": "stdout",
     "output_type": "stream",
     "text": [
      "ОТВЕТ: Вероятность того, что из вытащенных мячей 3 белые Р(А) =  0.369\n"
     ]
    }
   ],
   "source": [
    "print(f'ОТВЕТ: Вероятность того, что из вытащенных мячей 3 белые Р(А) = {P1+P2+P3: .3f}')"
   ]
  }
 ],
 "metadata": {
  "kernelspec": {
   "display_name": "Python 3",
   "language": "python",
   "name": "python3"
  },
  "language_info": {
   "codemirror_mode": {
    "name": "ipython",
    "version": 3
   },
   "file_extension": ".py",
   "mimetype": "text/x-python",
   "name": "python",
   "nbconvert_exporter": "python",
   "pygments_lexer": "ipython3",
   "version": "3.10.7"
  },
  "vscode": {
   "interpreter": {
    "hash": "6847c98a8f86b01c6a19c518cd2f366693b80566b266804d5ca763cbb223f52b"
   }
  }
 },
 "nbformat": 4,
 "nbformat_minor": 5
}
